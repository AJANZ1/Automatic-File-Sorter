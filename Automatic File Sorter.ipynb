{
 "cells": [
  {
   "cell_type": "code",
   "execution_count": 33,
   "id": "2f66d6d2-f827-4540-ad3d-fd46a903214a",
   "metadata": {},
   "outputs": [],
   "source": [
    "import os, shutil"
   ]
  },
  {
   "cell_type": "code",
   "execution_count": 35,
   "id": "aa03f076-64e8-471e-bc86-889f679eb39e",
   "metadata": {},
   "outputs": [],
   "source": [
    "path = r'C:/Users/subomi/Documents/Python Scripts/'"
   ]
  },
  {
   "cell_type": "code",
   "execution_count": 37,
   "id": "4a3a6411-edfc-4061-a705-1dbe0a5d8637",
   "metadata": {},
   "outputs": [],
   "source": [
    "file_name = os.listdir(path)"
   ]
  },
  {
   "cell_type": "code",
   "execution_count": 39,
   "id": "e3eb25b4-8f0a-480f-b7b9-f20dc3b0113b",
   "metadata": {},
   "outputs": [
    {
     "name": "stdout",
     "output_type": "stream",
     "text": [
      "C:/Users/subomi/Documents/Python Scripts/csv files\n",
      "C:/Users/subomi/Documents/Python Scripts/image files\n",
      "C:/Users/subomi/Documents/Python Scripts/text files\n"
     ]
    }
   ],
   "source": [
    "folder_names = ['csv files', 'image files', 'text files']\n",
    "for loop in range(0,3):\n",
    "    if not os.path.exists(path + folder_names[loop]):\n",
    "        print(path + folder_names[loop])\n",
    "        os.makedirs(path + folder_names[loop])\n",
    "        "
   ]
  },
  {
   "cell_type": "code",
   "execution_count": 49,
   "id": "7a0a689e-810b-42f4-aa48-9d86c86ceeed",
   "metadata": {},
   "outputs": [],
   "source": [
    "for file in file_name:\n",
    "    if \".csv\" and not os.path.exists(path + \"csv files/\" + file): \n",
    "        shutil.move(path + file + \".csv files/\" + file) \n",
    "    elif \".png\" and not os.path.exists(path + \"image files/\" + file):\n",
    "        shutil.move(path + file + \".image files/\" + file)\n",
    "    elif \".txt\" and not os.path.exists(path + \"text files/\" + file):\n",
    "        shutil.move(path + file + \".text files/\" + file)\n",
    "    "
   ]
  },
  {
   "cell_type": "code",
   "execution_count": null,
   "id": "e6f83636-f43a-4d0c-bbf2-ac8c637eadfa",
   "metadata": {},
   "outputs": [],
   "source": []
  },
  {
   "cell_type": "code",
   "execution_count": null,
   "id": "7fa44550-48b9-4061-a72d-75c7240fcfac",
   "metadata": {},
   "outputs": [],
   "source": []
  },
  {
   "cell_type": "code",
   "execution_count": null,
   "id": "06035ced-8e13-40c8-ac7f-354ada7b2ba7",
   "metadata": {},
   "outputs": [],
   "source": []
  },
  {
   "cell_type": "code",
   "execution_count": null,
   "id": "d118dae8-6e6c-4770-9693-8bb4220999cc",
   "metadata": {},
   "outputs": [],
   "source": []
  },
  {
   "cell_type": "code",
   "execution_count": null,
   "id": "8f1fb4e3-d06e-4110-b118-ff0740f1accb",
   "metadata": {},
   "outputs": [],
   "source": []
  },
  {
   "cell_type": "code",
   "execution_count": null,
   "id": "b76af0f3-9505-44fd-8035-12ea5d32cfdc",
   "metadata": {},
   "outputs": [],
   "source": []
  }
 ],
 "metadata": {
  "kernelspec": {
   "display_name": "Python 3 (ipykernel)",
   "language": "python",
   "name": "python3"
  },
  "language_info": {
   "codemirror_mode": {
    "name": "ipython",
    "version": 3
   },
   "file_extension": ".py",
   "mimetype": "text/x-python",
   "name": "python",
   "nbconvert_exporter": "python",
   "pygments_lexer": "ipython3",
   "version": "3.12.4"
  }
 },
 "nbformat": 4,
 "nbformat_minor": 5
}
